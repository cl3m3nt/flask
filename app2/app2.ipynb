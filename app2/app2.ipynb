{
 "nbformat": 4,
 "nbformat_minor": 2,
 "metadata": {
  "language_info": {
   "name": "python",
   "codemirror_mode": {
    "name": "ipython",
    "version": 3
   }
  },
  "orig_nbformat": 2,
  "file_extension": ".py",
  "mimetype": "text/x-python",
  "name": "python",
  "npconvert_exporter": "python",
  "pygments_lexer": "ipython3",
  "version": 3
 },
 "cells": [
  {
   "cell_type": "code",
   "execution_count": null,
   "metadata": {},
   "outputs": [],
   "source": [
    "from flask import Flask\n",
    "app = Flask(__name__)\n",
    "\n",
    "@app.route('/')\n",
    "def index_page():\n",
    "    return 'Welcome to index page!'\n",
    "\n",
    "@app.route('/function1')\n",
    "def function1():\n",
    "    return 'Hello from function1!'\n",
    "\n",
    "@app.route('/funcstring/<inputstring>')\n",
    "def funcstring(inputstring):\n",
    "    return 'Welcome'+inputstring\n",
    "\n"
   ]
  }
 ]
}