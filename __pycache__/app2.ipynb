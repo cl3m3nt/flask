{
 "nbformat": 4,
 "nbformat_minor": 2,
 "metadata": {
  "language_info": {
   "name": "python",
   "codemirror_mode": {
    "name": "ipython",
    "version": 3
   },
   "version": "3.6.10-final"
  },
  "orig_nbformat": 2,
  "file_extension": ".py",
  "mimetype": "text/x-python",
  "name": "python",
  "npconvert_exporter": "python",
  "pygments_lexer": "ipython3",
  "version": 3,
  "kernelspec": {
   "name": "python361064bitflaskconda50e051f37eb64535892ec0359955632b",
   "display_name": "Python 3.6.10 64-bit ('flask': conda)"
  }
 },
 "cells": [
  {
   "cell_type": "code",
   "execution_count": 2,
   "metadata": {},
   "outputs": [],
   "source": [
    "from flask import Flask\n",
    "app = Flask(__name__)\n",
    "\n",
    "@app.route('/')\n",
    "def index_page():\n",
    "    return 'Welcome to index page!'\n",
    "\n",
    "@app.route('/function1')\n",
    "def function1():\n",
    "    return 'Hello from function1!'\n",
    "\n",
    "@app.route('/funcstringvar/<inputstring>')\n",
    "def stringFunc(inputstring):\n",
    "    return 'Welcome %s' %inputstring\n",
    "\n",
    "@app.route('/funcintvar/<int:inputint>')\n",
    "def intFunc(inputint):\n",
    "    return 'You entered %d' %inputint"
   ]
  },
  {
   "cell_type": "code",
   "execution_count": 6,
   "metadata": {},
   "outputs": [
    {
     "name": "stdout",
     "output_type": "stream",
     "text": "Welcome to index page!\nHello from function1!\nWelcome its me\nYou entered 3\n"
    }
   ],
   "source": [
    "print(index_page())\n",
    "print(function1())\n",
    "print(stringFunc('its me'))\n",
    "print(intFunc(3))"
   ]
  },
  {
   "cell_type": "code",
   "execution_count": null,
   "metadata": {},
   "outputs": [],
   "source": []
  }
 ]
}