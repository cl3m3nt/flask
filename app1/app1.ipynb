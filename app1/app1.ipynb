{
 "nbformat": 4,
 "nbformat_minor": 2,
 "metadata": {
  "language_info": {
   "name": "python",
   "codemirror_mode": {
    "name": "ipython",
    "version": 3
   },
   "version": "3.6.10-final"
  },
  "orig_nbformat": 2,
  "file_extension": ".py",
  "mimetype": "text/x-python",
  "name": "python",
  "npconvert_exporter": "python",
  "pygments_lexer": "ipython3",
  "version": 3,
  "kernelspec": {
   "name": "python361064bitflaskconda50e051f37eb64535892ec0359955632b",
   "display_name": "Python 3.6.10 64-bit ('flask': conda)"
  }
 },
 "cells": [
  {
   "cell_type": "code",
   "execution_count": 16,
   "metadata": {},
   "outputs": [],
   "source": [
    "from flask import Flask\n",
    "app = Flask(__name__)\n",
    "\n",
    "@app.route('/')\n",
    "def hello_world():\n",
    "    return 'Hello, World!'\n",
    "\n",
    "@app.route('/function1')\n",
    "def function1():\n",
    "    return 'Hello from function1!'\n",
    "\n",
    "@app.route('/function2')\n",
    "def function2():\n",
    "    return 'Hello from function2!'"
   ]
  },
  {
   "cell_type": "code",
   "execution_count": 17,
   "metadata": {},
   "outputs": [
    {
     "name": "stdout",
     "output_type": "stream",
     "text": "Hello, World!\nHello from function1!\nHello from function2!\n"
    }
   ],
   "source": [
    "print(hello_world())\n",
    "print(function1())\n",
    "print(function2())"
   ]
  }
 ]
}