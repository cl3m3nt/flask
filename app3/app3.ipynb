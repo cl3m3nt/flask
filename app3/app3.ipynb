{
 "nbformat": 4,
 "nbformat_minor": 2,
 "metadata": {
  "language_info": {
   "name": "python",
   "codemirror_mode": {
    "name": "ipython",
    "version": 3
   },
   "version": "3.6.10-final"
  },
  "orig_nbformat": 2,
  "file_extension": ".py",
  "mimetype": "text/x-python",
  "name": "python",
  "npconvert_exporter": "python",
  "pygments_lexer": "ipython3",
  "version": 3,
  "kernelspec": {
   "name": "python361064bitflaskconda50e051f37eb64535892ec0359955632b",
   "display_name": "Python 3.6.10 64-bit ('flask': conda)"
  }
 },
 "cells": [
  {
   "cell_type": "code",
   "execution_count": 2,
   "metadata": {},
   "outputs": [],
   "source": [
    "from flask import Flask\n",
    "app = Flask(__name__)"
   ]
  },
  {
   "cell_type": "code",
   "execution_count": 3,
   "metadata": {},
   "outputs": [],
   "source": [
    "@app.route('/')\n",
    "def index_page():\n",
    "    return 'Welcome my ML Model application'\n",
    "\n",
    "@app.route('/model1/<int:input>')\n",
    "def mlmodel1(input):\n",
    "    return 'Prediction %d from ML model1' %input\n",
    "\n",
    "@app.route('/model2/<int:input>')\n",
    "def mlmodel2(input):\n",
    "    return 'Prediction %d from ML model2' %input"
   ]
  },
  {
   "cell_type": "code",
   "execution_count": 5,
   "metadata": {},
   "outputs": [
    {
     "name": "stdout",
     "output_type": "stream",
     "text": "Welcome my ML Model application\nPrediction 10 from ML model1\nPrediction 20 from ML model2\n"
    }
   ],
   "source": [
    "print(index_page())\n",
    "print(mlmodel1(10))\n",
    "print(mlmodel2(20))"
   ]
  }
 ]
}